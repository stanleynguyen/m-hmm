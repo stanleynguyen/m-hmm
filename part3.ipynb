{
 "cells": [
  {
   "cell_type": "markdown",
   "metadata": {},
   "source": [
    "### Part 3"
   ]
  },
  {
   "cell_type": "markdown",
   "metadata": {},
   "source": [
    "Estimates the transition parameters from the training set using MLE"
   ]
  },
  {
   "cell_type": "code",
   "execution_count": 4,
   "metadata": {},
   "outputs": [
    {
     "data": {
      "text/plain": [
       "0.5"
      ]
     },
     "execution_count": 4,
     "metadata": {},
     "output_type": "execute_result"
    }
   ],
   "source": [
    "import copy\n",
    "def transition_params(ordered_words_list: list):\n",
    "    count = {}\n",
    "    count_given = {} # 2 layer dictionary depth-0 key is the (i-1)-word, depth-1 key is the i-word\n",
    "    \n",
    "    # count frequency of all word and combinations of 2 words in the dataset\n",
    "    for idx, word in enumerate(ordered_words_list):\n",
    "        if word not in count:\n",
    "            count[word] = 1\n",
    "            count_given[word] = {}\n",
    "            if idx < len(ordered_words_list) - 1:\n",
    "                next_word = ordered_words_list[idx + 1]\n",
    "                count_given[word][next_word] = 1\n",
    "        else:\n",
    "            count[word] += 1\n",
    "            if idx < len(ordered_words_list) - 1:\n",
    "                next_word = ordered_words_list[idx + 1]\n",
    "                if next_word not in count_given[word]:\n",
    "                    count_given[word][next_word] = 1\n",
    "                else:\n",
    "                    count_given[word][next_word] += 1\n",
    "    \n",
    "    # calculate trans_params\n",
    "    trans_params = copy.deepcopy(count_given)\n",
    "    for given_word in trans_params:\n",
    "        for word in trans_params[given_word]:\n",
    "            trans_params[given_word][word] /= count[given_word]\n",
    "            \n",
    "    return trans_params\n",
    "\n",
    "def specific_transition_params(ordered_words_list: list, y: str, y_given: str):\n",
    "    trans_params = transition_params(ordered_words_list)\n",
    "    if y not in trans_params:\n",
    "        return 0;\n",
    "    elif y_given not in trans_params[y]:\n",
    "        return 0;\n",
    "    else:\n",
    "        return trans_params[y_given][y]\n",
    "    \n",
    "specific_transition_params(['a', 'b', 'b', 'c', 'b', 'a', 'd', 'h', 'b'], 'b', 'a')"
   ]
  },
  {
   "cell_type": "markdown",
   "metadata": {},
   "source": [
    "Viterbi algo"
   ]
  },
  {
   "cell_type": "code",
   "execution_count": 6,
   "metadata": {},
   "outputs": [
    {
     "data": {
      "text/plain": [
       "{'Again': 'I',\n",
       " 'And': 'I,',\n",
       " 'But': 'I',\n",
       " 'Drink': 'too',\n",
       " 'Hey': 'I',\n",
       " 'Hey,': 'you',\n",
       " 'I': \"can't\",\n",
       " \"I'm\": 'okay',\n",
       " 'I,': 'I',\n",
       " 'Moved': 'to',\n",
       " 'No,': 'I,',\n",
       " 'Now': \"you're\",\n",
       " 'START': 'Hey',\n",
       " 'STOP': '',\n",
       " 'a': 'hotel',\n",
       " 'an': 'issue',\n",
       " 'and': \"that's\",\n",
       " 'bar': 'And',\n",
       " 'before': 'I',\n",
       " 'breaks': 'your',\n",
       " 'broke-down': 'car',\n",
       " 'calls': 'Now',\n",
       " \"can't\": 'stop',\n",
       " 'car': 'And',\n",
       " 'city': 'in',\n",
       " 'doing': 'just',\n",
       " 'fine': 'before',\n",
       " 'four': 'years,',\n",
       " 'friends': 'it',\n",
       " 'heart': 'Moved',\n",
       " 'hope': 'I',\n",
       " 'hotel': 'bar',\n",
       " 'in': 'a',\n",
       " 'issue': 'But',\n",
       " 'it': 'breaks',\n",
       " 'just': 'fine',\n",
       " 'know': 'it',\n",
       " 'looking': 'pretty',\n",
       " 'meet': 'them',\n",
       " 'met': 'you',\n",
       " 'much': 'and',\n",
       " 'never': 'see',\n",
       " 'nice': 'to',\n",
       " 'no': 'calls',\n",
       " 'okay': 'Hey,',\n",
       " 'pretty': 'in',\n",
       " 'see': 'them',\n",
       " 'stop': 'STOP',\n",
       " 'tell': 'your',\n",
       " \"that's\": 'an',\n",
       " 'the': 'city',\n",
       " 'them': 'Again',\n",
       " 'to': 'the',\n",
       " 'too': 'much',\n",
       " 'was': 'nice',\n",
       " 'years,': 'no',\n",
       " 'you': 'tell',\n",
       " \"you're\": 'looking',\n",
       " 'your': 'heart'}"
      ]
     },
     "execution_count": 6,
     "metadata": {},
     "output_type": "execute_result"
    }
   ],
   "source": [
    "def viterbi(sentence: str):\n",
    "    words_list = ['START'] + sentence.split() + ['STOP']\n",
    "    trans_params = transition_params(words_list)\n",
    "    result = {} # key is given_word, value is the the maximum-likely next word\n",
    "    \n",
    "    for given_word in trans_params:\n",
    "        max_arg = 0\n",
    "        result[given_word] = ''\n",
    "        for word in trans_params[given_word]:\n",
    "            if trans_params[given_word][word] > max_arg:\n",
    "                result[given_word] = word\n",
    "        \n",
    "    return result\n",
    "\n",
    "viterbi(\"\"\"\n",
    "Hey I was doing just fine before I met you\n",
    "Drink too much and that\\'s an issue\n",
    "But I\\'m okay\n",
    "Hey, you tell your friends it was nice to meet them\n",
    "But I hope I never see them\n",
    "Again\n",
    "I know it breaks your heart\n",
    "Moved to the city in a broke-down car\n",
    "And four years, no calls\n",
    "Now you're looking pretty in a hotel bar\n",
    "And I, I, I, I, I can't stop\n",
    "No, I, I, I, I, I can't stop\n",
    "\"\"\")"
   ]
  }
 ],
 "metadata": {
  "kernelspec": {
   "display_name": "Python 3",
   "language": "python",
   "name": "python3"
  },
  "language_info": {
   "codemirror_mode": {
    "name": "ipython",
    "version": 3
   },
   "file_extension": ".py",
   "mimetype": "text/x-python",
   "name": "python",
   "nbconvert_exporter": "python",
   "pygments_lexer": "ipython3",
   "version": "3.6.1"
  }
 },
 "nbformat": 4,
 "nbformat_minor": 2
}
