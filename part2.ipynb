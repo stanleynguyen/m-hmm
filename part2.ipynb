{
 "cells": [
  {
   "cell_type": "markdown",
   "metadata": {},
   "source": [
    "### Part 2\n",
    "\n",
    "Estimate the emission parameters from the training set using MLE"
   ]
  },
  {
   "cell_type": "code",
   "execution_count": 2,
   "metadata": {},
   "outputs": [],
   "source": [
    "def emission_params(tokens_list: list, y: str, x: str, special_token='#UNK#'):\n",
    "    y_count = 0\n",
    "    x_given_y_count = 0\n",
    "    x_count = 0\n",
    "    for token in tokens_list: \n",
    "        if token[1] == y:\n",
    "            y_count += 1\n",
    "            if token[0] == x:\n",
    "                x_given_y_count += 1\n",
    "        if token[0] == x:\n",
    "            x_count += 1\n",
    "    \n",
    "    if x_count == 0:\n",
    "        return emission_params(tokens_list, y, special_token)\n",
    "    return float(x_given_y_count) / y_count"
   ]
  },
  {
   "cell_type": "code",
   "execution_count": 3,
   "metadata": {},
   "outputs": [
    {
     "data": {
      "text/plain": [
       "0.3333333333333333"
      ]
     },
     "execution_count": 3,
     "metadata": {},
     "output_type": "execute_result"
    }
   ],
   "source": [
    "# Example ussage\n",
    "import os\n",
    "\n",
    "data = [['a', 'O'], ['b', 'O'], ['a', 'I'], ['c', 'O']]\n",
    "emission_params(tokens_list=data, y='O', x='a')\n",
    "\n",
    "# with open('./EN/train') as train_file:\n",
    "#     read_data = train_file.read()\n",
    "#     read_data = os.linesep.join([s for s in read_data.splitlines() if s])\n",
    "#     data = list(map(lambda x: x.split(' '),read_data.split('\\n')))\n",
    "# emission_params(tokens_list=data, y='O', x='a')"
   ]
  },
  {
   "cell_type": "markdown",
   "metadata": {},
   "source": [
    "Modify training set to replace words that appear less than k times with special token. Apply this to the emission parameters prediction function with k = 3"
   ]
  },
  {
   "cell_type": "code",
   "execution_count": 4,
   "metadata": {},
   "outputs": [],
   "source": [
    "def clean_data(tokens_list, k = 1, special_token = '#UNK#'):\n",
    "    token_freq = {}\n",
    "    for token in tokens_list:\n",
    "        if token[0] not in token_freq: \n",
    "            token_freq[token[0]] = 1\n",
    "        else:\n",
    "            token_freq[token[0]] += 1\n",
    "    for i in range(len(tokens_list)):\n",
    "        if token_freq[tokens_list[i][0]] < k:\n",
    "            tokens_list[i][0] = special_token\n",
    "    \n",
    "    return tokens_list\n",
    "\n",
    "def emission_params_clean_data(tokens_list: list, y: str, x: str):\n",
    "    tokens_list = clean_data(tokens_list = tokens_list, k = 3)\n",
    "    return emission_params(tokens_list, y, x)"
   ]
  },
  {
   "cell_type": "code",
   "execution_count": 5,
   "metadata": {},
   "outputs": [
    {
     "data": {
      "text/plain": [
       "0.5"
      ]
     },
     "execution_count": 5,
     "metadata": {},
     "output_type": "execute_result"
    }
   ],
   "source": [
    "# Example usage\n",
    "data = [['a', 'O'], ['b', 'O'], ['a', 'I'], ['c', 'O'], ['a', 'O']]\n",
    "emission_params_clean_data(tokens_list=data, y='O', x='a')"
   ]
  },
  {
   "cell_type": "markdown",
   "metadata": {},
   "source": [
    "Sentiment analysis system that produces the tag for input"
   ]
  },
  {
   "cell_type": "code",
   "execution_count": 10,
   "metadata": {},
   "outputs": [
    {
     "name": "stdout",
     "output_type": "stream",
     "text": [
      "Finished: EN\n",
      "Finished: SG\n",
      "Finished: CN\n",
      "Finished: FR\n"
     ]
    }
   ],
   "source": [
    "def predict_tag(tokens_list: list, x: str):\n",
    "    y_tags = ['O', 'B-positive', 'I-positive', 'B-neutral', 'I-neutral', 'B-negative', 'I-negative']\n",
    "    score = 0.0\n",
    "    y_tag = None\n",
    "    for y in y_tags:\n",
    "        y_score = emission_params_clean_data(tokens_list, y, x)\n",
    "        if (y_score > score):\n",
    "            y_tag = y\n",
    "            score = y_score \n",
    "    return y_tag\n",
    "\n",
    "# clean data before predicting the tag\n",
    "def predict_tag_optimized(tokens_list: list, x: str):\n",
    "    y_tags = ['O', 'B-positive', 'I-positive', 'B-neutral', 'I-neutral', 'B-negative', 'I-negative']\n",
    "    score = 0.0\n",
    "    y_tag = None\n",
    "    for y in y_tags:\n",
    "        y_score = emission_params(tokens_list, y, x)\n",
    "        if (y_score > score):\n",
    "            y_tag = y\n",
    "            score = y_score \n",
    "    return y_tag\n",
    "languages = ['EN', 'SG', 'CN', 'FR']\n",
    "\n",
    "for l in languages:\n",
    "    with open(\"./{}/train\".format(l)) as train_file:\n",
    "        read_data = train_file.read()\n",
    "        read_data = os.linesep.join([s for s in read_data.splitlines() if s])\n",
    "        data = list(map(lambda x: x.split(' '),read_data.split('\\n')))\n",
    "        data_cleaned = clean_data(tokens_list = data, k = 3)\n",
    "\n",
    "    with open(\"./{}/dev.in\".format(l)) as in_file, open(\"./{}/dev.p2.out\".format(l), 'w+') as out_file:\n",
    "        for line in in_file:\n",
    "            word = line.strip()\n",
    "            if (word == ''):\n",
    "                out_file.write(\"\\n\")\n",
    "            else:\n",
    "                out_file.write(\"{} {}\\n\".format(word, predict_tag_optimized(data_cleaned, word)))\n",
    "    print(\"Finished: {}\".format(l))"
   ]
  },
  {
   "cell_type": "code",
   "execution_count": 12,
   "metadata": {},
   "outputs": [
    {
     "name": "stdout",
     "output_type": "stream",
     "text": [
      "Language: EN\n",
      "\n",
      "#Entity in gold data: 226\n",
      "#Entity in prediction: 1201\n",
      "\n",
      "#Correct Entity : 165\n",
      "Entity  precision: 0.1374\n",
      "Entity  recall: 0.7301\n",
      "Entity  F: 0.2313\n",
      "\n",
      "#Correct Sentiment : 71\n",
      "Sentiment  precision: 0.0591\n",
      "Sentiment  recall: 0.3142\n",
      "Sentiment  F: 0.0995\n",
      "\n",
      "----------------------\n",
      "Language: SG\n",
      "\n",
      "#Entity in gold data: 1382\n",
      "#Entity in prediction: 6599\n",
      "\n",
      "#Correct Entity : 794\n",
      "Entity  precision: 0.1203\n",
      "Entity  recall: 0.5745\n",
      "Entity  F: 0.1990\n",
      "\n",
      "#Correct Sentiment : 315\n",
      "Sentiment  precision: 0.0477\n",
      "Sentiment  recall: 0.2279\n",
      "Sentiment  F: 0.0789\n",
      "\n",
      "----------------------\n",
      "Language: CN\n",
      "\n",
      "#Entity in gold data: 362\n",
      "#Entity in prediction: 3318\n",
      "\n",
      "#Correct Entity : 183\n",
      "Entity  precision: 0.0552\n",
      "Entity  recall: 0.5055\n",
      "Entity  F: 0.0995\n",
      "\n",
      "#Correct Sentiment : 57\n",
      "Sentiment  precision: 0.0172\n",
      "Sentiment  recall: 0.1575\n",
      "Sentiment  F: 0.0310\n",
      "\n",
      "----------------------\n",
      "Language: FR\n",
      "\n",
      "#Entity in gold data: 223\n",
      "#Entity in prediction: 1149\n",
      "\n",
      "#Correct Entity : 182\n",
      "Entity  precision: 0.1584\n",
      "Entity  recall: 0.8161\n",
      "Entity  F: 0.2653\n",
      "\n",
      "#Correct Sentiment : 68\n",
      "Sentiment  precision: 0.0592\n",
      "Sentiment  recall: 0.3049\n",
      "Sentiment  F: 0.0991\n",
      "\n",
      "----------------------\n"
     ]
    }
   ],
   "source": [
    "for l in languages:\n",
    "    output = os.popen(\"python EvalScript/evalResult.py {0}/dev.out {0}/dev.p2.out\".format(l)).read()\n",
    "    print(\"Language: {}\".format(l))\n",
    "    print(output)\n",
    "    print(\"----------------------\")"
   ]
  },
  {
   "cell_type": "code",
   "execution_count": null,
   "metadata": {},
   "outputs": [],
   "source": []
  }
 ],
 "metadata": {
  "kernelspec": {
   "display_name": "Python 3",
   "language": "python",
   "name": "python3"
  },
  "language_info": {
   "codemirror_mode": {
    "name": "ipython",
    "version": 3
   },
   "file_extension": ".py",
   "mimetype": "text/x-python",
   "name": "python",
   "nbconvert_exporter": "python",
   "pygments_lexer": "ipython3",
   "version": "3.6.2"
  }
 },
 "nbformat": 4,
 "nbformat_minor": 2
}
