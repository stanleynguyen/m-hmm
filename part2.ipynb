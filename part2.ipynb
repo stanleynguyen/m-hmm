{
 "cells": [
  {
   "cell_type": "markdown",
   "metadata": {},
   "source": [
    "Function to replace all the token that appears less than k times with a single token"
   ]
  },
  {
   "cell_type": "code",
   "execution_count": 67,
   "metadata": {
    "collapsed": true
   },
   "outputs": [],
   "source": [
    "def clean_data(tokens_list = [], k = 1, special_token = '#UNK#'):\n",
    "    token_freq = {}\n",
    "    replaced_tokens = []\n",
    "    for token in tokens_list:\n",
    "        if token[0] not in token_freq: \n",
    "            replaced_tokens.append(token[0])\n",
    "            token_freq[token[0]] = 1\n",
    "        else:\n",
    "            token_freq[token[0]] += 1\n",
    "    for i in range(len(tokens_list)):\n",
    "        if token_freq[tokens_list[i][0]] < k:\n",
    "            tokens_list[i][0] = special_token\n",
    "    \n",
    "    return tokens_list, replaced_tokens"
   ]
  },
  {
   "cell_type": "code",
   "execution_count": 68,
   "metadata": {},
   "outputs": [
    {
     "data": {
      "text/plain": [
       "([['a', 'O'], ['#UNK#', 'O'], ['a', 'I'], ['#UNK#', 'O']], ['a', 'b', 'c'])"
      ]
     },
     "execution_count": 68,
     "metadata": {},
     "output_type": "execute_result"
    }
   ],
   "source": [
    "# Example usage\n",
    "data = [['a', 'O'], ['b', 'O'], ['a', 'I'], ['c', 'O']]\n",
    "clean_data(tokens_list=data, k = 2)"
   ]
  },
  {
   "cell_type": "markdown",
   "metadata": {},
   "source": [
    "Function estimating the emission params"
   ]
  },
  {
   "cell_type": "code",
   "execution_count": 69,
   "metadata": {
    "collapsed": true
   },
   "outputs": [],
   "source": [
    "def emission(tokens_list = [], y = 'O', x = '', minimum_freq = 1):\n",
    "    y_count = 0\n",
    "    x_given_y_count = 0\n",
    "    tokens_list, replaced_tokens = clean_data(tokens_list, k = minimum_freq)\n",
    "    if x in replaced_tokens: \n",
    "        x = '#UNK#'\n",
    "    for token in tokens_list:\n",
    "        if token[1] == y:\n",
    "            y_count += 1\n",
    "            if token[0] == x:\n",
    "                x_given_y_count += 1\n",
    "                \n",
    "    return float(x_given_y_count) / y_count"
   ]
  },
  {
   "cell_type": "code",
   "execution_count": 70,
   "metadata": {},
   "outputs": [
    {
     "data": {
      "text/plain": [
       "0.16372411517201552"
      ]
     },
     "execution_count": 70,
     "metadata": {},
     "output_type": "execute_result"
    }
   ],
   "source": [
    "# Example ussage\n",
    "import os\n",
    "# data = [['a', 'O'], ['b', 'O'], ['a', 'I'], ['c', 'O']]\n",
    "# emission(tokensList=data, y='O', x='a')\n",
    "data = []\n",
    "\n",
    "with open('./EN/train') as train_file:\n",
    "    read_data = train_file.read()\n",
    "    read_data = os.linesep.join([s for s in read_data.splitlines() if s])\n",
    "    data = list(map(lambda x: x.split(' '),read_data.split('\\n')))\n",
    "\n",
    "emission(tokens_list=data, y='O', x='sake', minimum_freq = 5)"
   ]
  },
  {
   "cell_type": "code",
   "execution_count": null,
   "metadata": {
    "collapsed": true
   },
   "outputs": [],
   "source": []
  }
 ],
 "metadata": {
  "kernelspec": {
   "display_name": "Python 3",
   "language": "python",
   "name": "python3"
  },
  "language_info": {
   "codemirror_mode": {
    "name": "ipython",
    "version": 3
   },
   "file_extension": ".py",
   "mimetype": "text/x-python",
   "name": "python",
   "nbconvert_exporter": "python",
   "pygments_lexer": "ipython3",
   "version": "3.6.1"
  }
 },
 "nbformat": 4,
 "nbformat_minor": 2
}
