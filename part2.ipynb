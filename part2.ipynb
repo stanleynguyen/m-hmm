{
 "cells": [
  {
   "cell_type": "markdown",
   "metadata": {},
   "source": [
    "### Part 2\n",
    "\n",
    "Estimate the emission parameters from the training set using MLE"
   ]
  },
  {
   "cell_type": "code",
   "execution_count": 1,
   "metadata": {
    "collapsed": true
   },
   "outputs": [],
   "source": [
    "def emission_params(tokens_list: list, y: str, x: str, special_token='#UNK#'):\n",
    "    y_count = 0\n",
    "    x_given_y_count = 0\n",
    "    x_count = 0\n",
    "    for token in tokens_list: \n",
    "        if token[1] == y:\n",
    "            y_count += 1\n",
    "            if token[0] == x:\n",
    "                x_given_y_count += 1\n",
    "        if token[0] == x:\n",
    "            x_count += 1\n",
    "    \n",
    "    if x_count == 0:\n",
    "        return emission_params(tokens_list, y, special_token)\n",
    "    return float(x_given_y_count) / y_count"
   ]
  },
  {
   "cell_type": "code",
   "execution_count": 2,
   "metadata": {},
   "outputs": [
    {
     "data": {
      "text/plain": [
       "0.3333333333333333"
      ]
     },
     "execution_count": 2,
     "metadata": {},
     "output_type": "execute_result"
    }
   ],
   "source": [
    "# Example ussage\n",
    "import os\n",
    "\n",
    "data = [['a', 'O'], ['b', 'O'], ['a', 'I'], ['c', 'O']]\n",
    "emission_params(tokens_list=data, y='O', x='a')\n",
    "\n",
    "# with open('./EN/train') as train_file:\n",
    "#     read_data = train_file.read()\n",
    "#     read_data = os.linesep.join([s for s in read_data.splitlines() if s])\n",
    "#     data = list(map(lambda x: x.split(' '),read_data.split('\\n')))\n",
    "# emission_params(tokens_list=data, y='O', x='a')"
   ]
  },
  {
   "cell_type": "markdown",
   "metadata": {},
   "source": [
    "Modify training set to replace words that appear less than k times with special token. Apply this to the emission parameters prediction function with k = 3"
   ]
  },
  {
   "cell_type": "code",
   "execution_count": 3,
   "metadata": {
    "collapsed": true
   },
   "outputs": [],
   "source": [
    "def clean_data(tokens_list, k = 1, special_token = '#UNK#'):\n",
    "    token_freq = {}\n",
    "    for token in tokens_list:\n",
    "        if token[0] not in token_freq: \n",
    "            token_freq[token[0]] = 1\n",
    "        else:\n",
    "            token_freq[token[0]] += 1\n",
    "    for i in range(len(tokens_list)):\n",
    "        if token_freq[tokens_list[i][0]] < k:\n",
    "            tokens_list[i][0] = special_token\n",
    "    \n",
    "    return tokens_list\n",
    "\n",
    "def emission_params_clean_data(tokens_list: list, y: str, x: str):\n",
    "    tokens_list = clean_data(tokens_list = tokens_list, k = 3)\n",
    "    return emission_params(tokens_list, y, x)"
   ]
  },
  {
   "cell_type": "code",
   "execution_count": 4,
   "metadata": {},
   "outputs": [
    {
     "data": {
      "text/plain": [
       "0.5"
      ]
     },
     "execution_count": 4,
     "metadata": {},
     "output_type": "execute_result"
    }
   ],
   "source": [
    "# Example usage\n",
    "data = [['a', 'O'], ['b', 'O'], ['a', 'I'], ['c', 'O'], ['a', 'O']]\n",
    "emission_params_clean_data(tokens_list=data, y='O', x='a')"
   ]
  },
  {
   "cell_type": "markdown",
   "metadata": {},
   "source": [
    "Sentiment analysis system that produces the tag for input"
   ]
  },
  {
   "cell_type": "code",
   "execution_count": 5,
   "metadata": {},
   "outputs": [
    {
     "name": "stdout",
     "output_type": "stream",
     "text": [
      "0.00045375794076396337 O When\n",
      "0.0 B-positive When\n",
      "0.0 I-positive When\n",
      "0.0 B-neutral When\n",
      "0.0 I-neutral When\n",
      "0.0 B-negative When\n",
      "0.0 I-negative When\n",
      "When O\n",
      "0.019511591452850426 O I\n",
      "0.0 B-positive I\n",
      "0.0 I-positive I\n",
      "0.0 B-neutral I\n",
      "0.0 I-neutral I\n",
      "0.0 B-negative I\n",
      "0.0 I-negative I\n",
      "I O\n",
      "0.00028875505321343124 O called\n",
      "0.0 B-positive called\n",
      "0.0 I-positive called\n",
      "0.0 B-neutral called\n",
      "0.0 I-neutral called\n",
      "0.0 B-negative called\n",
      "0.0 I-negative called\n",
      "called O\n",
      "0.005857602508043891 O this\n",
      "0.0 B-positive this\n",
      "0.0 I-positive this\n",
      "0.0 B-neutral this\n",
      "0.0 I-neutral this\n",
      "0.0 B-negative this\n",
      "0.0 I-negative this\n",
      "this O\n",
      "0.11649203861067568 O morning\n",
      "0.24254966887417218 B-positive morning\n",
      "0.34761120263591433 I-positive morning\n",
      "0.16923076923076924 B-neutral morning\n",
      "0.21739130434782608 I-neutral morning\n",
      "0.18324607329842932 B-negative morning\n",
      "0.2556390977443609 I-negative morning\n",
      "morning I-positive\n",
      "0.03889943074003795 O ,\n",
      "0.0 B-positive ,\n",
      "0.008237232289950576 I-positive ,\n",
      "0.0 B-neutral ,\n",
      "0.0 I-neutral ,\n",
      "0.0 B-negative ,\n",
      "0.0 I-negative ,\n",
      ", O\n",
      "0.019511591452850426 O I\n",
      "0.0 B-positive I\n",
      "0.0 I-positive I\n",
      "0.0 B-neutral I\n",
      "0.0 I-neutral I\n",
      "0.0 B-negative I\n",
      "0.0 I-negative I\n",
      "I O\n",
      "0.0008250144377526607 O didn't\n",
      "0.0 B-positive didn't\n",
      "0.0 I-positive didn't\n",
      "0.0 B-neutral didn't\n",
      "0.0 I-neutral didn't\n",
      "0.0 B-negative didn't\n",
      "0.0 I-negative didn't\n",
      "didn't O\n",
      "0.0005362593845392294 O think\n",
      "0.0 B-positive think\n",
      "0.0 I-positive think\n",
      "0.0 B-neutral think\n",
      "0.0 I-neutral think\n",
      "0.0 B-negative think\n",
      "0.0 I-negative think\n",
      "think O\n",
      "0.019511591452850426 O I\n",
      "0.0 B-positive I\n",
      "0.0 I-positive I\n",
      "0.0 B-neutral I\n",
      "0.0 I-neutral I\n",
      "0.0 B-negative I\n",
      "0.0 I-negative I\n",
      "I O\n"
     ]
    }
   ],
   "source": [
    "def predict_tag(tokens_list: list, x: str):\n",
    "    y_tags = ['O', 'B-positive', 'I-positive', 'B-neutral', 'I-neutral', 'B-negative', 'I-negative']\n",
    "    score = 0.0\n",
    "    y_tag = None\n",
    "    for y in y_tags:\n",
    "        y_score = emission_params_clean_data(tokens_list, y, x)\n",
    "        print(y_score, y, x)\n",
    "        if (y_score > score):\n",
    "            y_tag = y\n",
    "            score = y_score \n",
    "    return y_tag\n",
    "\n",
    "with open('./EN/train') as train_file:\n",
    "    read_data = train_file.read()\n",
    "    read_data = os.linesep.join([s for s in read_data.splitlines() if s])\n",
    "    en_data = list(map(lambda x: x.split(' '),read_data.split('\\n')))\n",
    "\n",
    "with open('./EN/dev.p2.in') as in_file, open('./EN/dev.p2.out', 'w+') as out_file:\n",
    "    for line in in_file:\n",
    "        word = line.strip()\n",
    "        print(word, predict_tag(en_data, word))"
   ]
  }
 ],
 "metadata": {
  "kernelspec": {
   "display_name": "Python 3",
   "language": "python",
   "name": "python3"
  },
  "language_info": {
   "codemirror_mode": {
    "name": "ipython",
    "version": 3
   },
   "file_extension": ".py",
   "mimetype": "text/x-python",
   "name": "python",
   "nbconvert_exporter": "python",
   "pygments_lexer": "ipython3",
   "version": "3.6.1"
  }
 },
 "nbformat": 4,
 "nbformat_minor": 2
}
